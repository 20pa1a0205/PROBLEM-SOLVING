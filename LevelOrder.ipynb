{
  "nbformat": 4,
  "nbformat_minor": 0,
  "metadata": {
    "colab": {
      "provenance": [],
      "authorship_tag": "ABX9TyPKezvvAljYtDH7bjuKUATF",
      "include_colab_link": true
    },
    "kernelspec": {
      "name": "python3",
      "display_name": "Python 3"
    },
    "language_info": {
      "name": "python"
    }
  },
  "cells": [
    {
      "cell_type": "markdown",
      "metadata": {
        "id": "view-in-github",
        "colab_type": "text"
      },
      "source": [
        "<a href=\"https://colab.research.google.com/github/20pa1a0205/PROBLEM-SOLVING/blob/main/LevelOrder.ipynb\" target=\"_parent\"><img src=\"https://colab.research.google.com/assets/colab-badge.svg\" alt=\"Open In Colab\"/></a>"
      ]
    },
    {
      "cell_type": "markdown",
      "source": [
        "LevelOrder --->"
      ],
      "metadata": {
        "id": "YXR5dRUCPitA"
      }
    },
    {
      "cell_type": "code",
      "source": [
        "class Solution {\n",
        "    public List<List<Integer>> levelOrder(TreeNode root) {\n",
        "         List<List<Integer>>ans=new LinkedList<>();\n",
        "        \n",
        "        if(root==null){\n",
        "            return ans;\n",
        "        }\n",
        "        \n",
        "        Queue<TreeNode>n=new LinkedList<>();\n",
        "        n.add(root);\n",
        "        while(!n.isEmpty()){\n",
        "            List<Integer>l=new ArrayList<>();\n",
        "            int count=n.size();\n",
        "            for(int i=0;i<count;i++){\n",
        "                TreeNode cur=n.poll();\n",
        "                l.add(cur.val);\n",
        "                if(cur.left!=null){\n",
        "                    n.add(cur.left);\n",
        "                }\n",
        "                if(cur.right!=null){\n",
        "                    n.add(cur.right);\n",
        "                }\n",
        "                \n",
        "            }\n",
        "            \n",
        "            ans.add(l);\n",
        "        }\n",
        "        return ans;\n",
        "    }\n",
        "}"
      ],
      "metadata": {
        "id": "Le8LeVPnPndZ"
      },
      "execution_count": null,
      "outputs": []
    }
  ]
}