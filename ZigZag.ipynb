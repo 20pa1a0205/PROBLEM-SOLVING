{
  "nbformat": 4,
  "nbformat_minor": 0,
  "metadata": {
    "colab": {
      "provenance": [],
      "authorship_tag": "ABX9TyPbOxdfiFVn6NOn8ICb8u1F",
      "include_colab_link": true
    },
    "kernelspec": {
      "name": "python3",
      "display_name": "Python 3"
    },
    "language_info": {
      "name": "python"
    }
  },
  "cells": [
    {
      "cell_type": "markdown",
      "metadata": {
        "id": "view-in-github",
        "colab_type": "text"
      },
      "source": [
        "<a href=\"https://colab.research.google.com/github/20pa1a0205/PROBLEM-SOLVING/blob/main/ZigZag.ipynb\" target=\"_parent\"><img src=\"https://colab.research.google.com/assets/colab-badge.svg\" alt=\"Open In Colab\"/></a>"
      ]
    },
    {
      "cell_type": "markdown",
      "source": [
        "ZigZag --- >"
      ],
      "metadata": {
        "id": "iW0rmbunO_Yd"
      }
    },
    {
      "cell_type": "code",
      "source": [
        "class Solution:\n",
        "    def zigzagLevelOrder(self, root: Optional[TreeNode]) -> List[List[int]]:\n",
        "        if not root: return []\n",
        "        queue, res, level = collections.deque([root]), [], 1\n",
        "        \n",
        "    \n",
        "        while queue:\n",
        "            curr = []  \n",
        "            \n",
        "            for _ in range(len(queue)):\n",
        "                node = queue.popleft()\n",
        "                curr.append(node.val)\n",
        "                if node.left: queue.append(node.left)\n",
        "                if node.right: queue.append(node.right)\n",
        "                    \n",
        "            curr = reversed(curr) if level % 2 == 0 else curr\n",
        "            res.append(curr)\n",
        "            level += 1"
      ],
      "metadata": {
        "id": "iyb1jYJePCED"
      },
      "execution_count": null,
      "outputs": []
    }
  ]
}