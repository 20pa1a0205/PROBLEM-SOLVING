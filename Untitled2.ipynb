{
  "nbformat": 4,
  "nbformat_minor": 0,
  "metadata": {
    "colab": {
      "provenance": [],
      "authorship_tag": "ABX9TyMXbAqiXbsplx1np/3w0Xk1",
      "include_colab_link": true
    },
    "kernelspec": {
      "name": "python3",
      "display_name": "Python 3"
    },
    "language_info": {
      "name": "python"
    }
  },
  "cells": [
    {
      "cell_type": "markdown",
      "metadata": {
        "id": "view-in-github",
        "colab_type": "text"
      },
      "source": [
        "<a href=\"https://colab.research.google.com/github/20pa1a0205/PROBLEM-SOLVING/blob/main/Untitled2.ipynb\" target=\"_parent\"><img src=\"https://colab.research.google.com/assets/colab-badge.svg\" alt=\"Open In Colab\"/></a>"
      ]
    },
    {
      "cell_type": "markdown",
      "source": [],
      "metadata": {
        "id": "hVVEj6oHv2t9"
      }
    },
    {
      "cell_type": "code",
      "source": [
        "public List<Integer> inorderTraversal(TreeNode root) \n",
        "            if(node == null){\n",
        "                return list;\n",
        "            TreeNode ptr = root;\n",
        "            traversal(ptr);\n",
        "            return list;\n",
        "            }\n",
        "    public void traversal (TreeNode root)\n",
        "    {\n",
        "        if(root==null)\n",
        "            return;\n",
        "        traversal(root.left);\n",
        "        list.add(root.val);\n",
        "        traversal(root.right);\n",
        "    }"
      ],
      "metadata": {
        "id": "vwDxqbTqwMDV"
      },
      "execution_count": null,
      "outputs": []
    },
    {
      "cell_type": "code",
      "source": [
        "class Solution {\n",
        "    public List<Integer> inorderTraversal(TreeNode root) {\n",
        "        List<Integer> nodes = new ArrayList<>();\n",
        "        TreeNode cur = root;\n",
        "        while (cur != null) {\n",
        "            if (cur.left != null) {\n",
        "                TreeNode pre = cur.left;\n",
        "                while ((pre.right != null) && (pre.right != cur)) {\n",
        "                    pre = pre.right;\n",
        "                }\n",
        "                if (pre.right == null) {\n",
        "                    pre.right = cur;\n",
        "                    cur = cur.left;\n",
        "                } else {\n",
        "                    pre.right = null;\n",
        "                    nodes.add(cur.val);\n",
        "                    cur = cur.right;\n",
        "                }\n",
        "            } else {\n",
        "                nodes.add(cur.val);\n",
        "                cur = cur.right;\n",
        "            }\n",
        "        }\n",
        "        return nodes;\n",
        "    }\n",
        "}"
      ],
      "metadata": {
        "id": "5hpSMo7mwQ4t"
      },
      "execution_count": null,
      "outputs": []
    },
    {
      "cell_type": "code",
      "source": [
        "class Solution {\n",
        "    public boolean isSameTree(TreeNode p, TreeNode q) {\n",
        "        if(p==null &&  q==null){\n",
        "            return true;\n",
        "        }\n",
        "        if(p==null || q==null || p.val!=q.val){\n",
        "            return false;\n",
        "        }"
      ],
      "metadata": {
        "id": "UvNyPCCuwYUo"
      },
      "execution_count": null,
      "outputs": []
    },
    {
      "cell_type": "code",
      "source": [
        "class Solution:\n",
        "    def isSymmetric(self, root: Optional[TreeNode]) -> bool:\n",
        "        def isSym(n1 = root, n2 = root):\n",
        "            if not (n1 or n2):\n",
        "                return True\n",
        "            elif not (n1 and n2):\n",
        "                return False\n",
        "            elif n1.val != n2.val:\n",
        "                return False\n",
        "            return isSym(n1.left, n2.right) and isSym(n1.right, n2.left)\n",
        "        return isSym()"
      ],
      "metadata": {
        "id": "ipYXl7L0wg2T"
      },
      "execution_count": null,
      "outputs": []
    }
  ]
}