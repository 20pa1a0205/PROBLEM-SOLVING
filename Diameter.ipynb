{
  "nbformat": 4,
  "nbformat_minor": 0,
  "metadata": {
    "colab": {
      "provenance": [],
      "authorship_tag": "ABX9TyPVecqSnOPltU0rEBe0yZ/H",
      "include_colab_link": true
    },
    "kernelspec": {
      "name": "python3",
      "display_name": "Python 3"
    },
    "language_info": {
      "name": "python"
    }
  },
  "cells": [
    {
      "cell_type": "markdown",
      "metadata": {
        "id": "view-in-github",
        "colab_type": "text"
      },
      "source": [
        "<a href=\"https://colab.research.google.com/github/20pa1a0205/PROBLEM-SOLVING/blob/main/Diameter.ipynb\" target=\"_parent\"><img src=\"https://colab.research.google.com/assets/colab-badge.svg\" alt=\"Open In Colab\"/></a>"
      ]
    },
    {
      "cell_type": "markdown",
      "source": [
        "Diameter of a Binary Tree"
      ],
      "metadata": {
        "id": "DicIlzWSRVxJ"
      }
    },
    {
      "cell_type": "code",
      "source": [
        "class Solution {\n",
        "    public int diameterOfBinaryTree(TreeNode root) {\n",
        "        int[] diameter = new int[1];\n",
        "        height(root,diameter);\n",
        "        return diameter[0];\n",
        "    }\n",
        "    private int height(TreeNode node, int[]diameter) {\n",
        "        if (node == null) {\n",
        "            return 0;\n",
        "    }\n",
        "    int lh = height(node.left,diameter);\n",
        "    int rh = height(node.right,diameter);\n",
        "    diameter[0] = Math.max(diameter[0],lh+rh);\n",
        "    return 1+Math.max(lh,rh);\n",
        "    }\n",
        "}"
      ],
      "metadata": {
        "id": "crWfgJaNRby-"
      },
      "execution_count": null,
      "outputs": []
    }
  ]
}