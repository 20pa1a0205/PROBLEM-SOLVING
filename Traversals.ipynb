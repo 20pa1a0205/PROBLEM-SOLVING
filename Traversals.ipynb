{
  "nbformat": 4,
  "nbformat_minor": 0,
  "metadata": {
    "colab": {
      "provenance": [],
      "authorship_tag": "ABX9TyOG/YlWBgdLsboV6CKtgLUP",
      "include_colab_link": true
    },
    "kernelspec": {
      "name": "python3",
      "display_name": "Python 3"
    },
    "language_info": {
      "name": "python"
    }
  },
  "cells": [
    {
      "cell_type": "markdown",
      "metadata": {
        "id": "view-in-github",
        "colab_type": "text"
      },
      "source": [
        "<a href=\"https://colab.research.google.com/github/20pa1a0205/PROBLEM-SOLVING/blob/main/Traversals.ipynb\" target=\"_parent\"><img src=\"https://colab.research.google.com/assets/colab-badge.svg\" alt=\"Open In Colab\"/></a>"
      ]
    },
    {
      "cell_type": "markdown",
      "source": [
        " Preorder Traversal --->"
      ],
      "metadata": {
        "id": "VkSxNn1HQWcw"
      }
    },
    {
      "cell_type": "code",
      "source": [
        "class Solution:\n",
        "    def preorderTraversal(self, root: Optional[TreeNode]) -> List[int]:\n",
        "        self.res = []\n",
        "        def preorder(curr):\n",
        "            if curr:\n",
        "                self.res.append(curr.val)\n",
        "                preorder(curr.left)\n",
        "                preorder(curr.right)\n",
        "        preorder(root)\n",
        "        return self.res"
      ],
      "metadata": {
        "id": "qnGBrnqbQbp9"
      },
      "execution_count": null,
      "outputs": []
    },
    {
      "cell_type": "markdown",
      "source": [
        "Postorder Traversal --->"
      ],
      "metadata": {
        "id": "zmaXeLXWQkLg"
      }
    },
    {
      "cell_type": "code",
      "source": [
        "class Solution {\n",
        "    public List<Integer> postorderTraversal(TreeNode root) {\n",
        "        List<Integer> list = new ArrayList<>();\n",
        "        postorder(root, list);\n",
        "        return list;\n",
        "    }\n",
        "    \n",
        "    public void postorder(TreeNode node, List<Integer> list) {\n",
        "        if(node == null) {\n",
        "            return;\n",
        "        }\n",
        "        postorder(node.left, list);\n",
        "        postorder(node.right, list);\n",
        "        list.add(node.val);\n",
        "    }\n",
        "}"
      ],
      "metadata": {
        "id": "psBdTDPFQnuK"
      },
      "execution_count": null,
      "outputs": []
    }
  ]
}