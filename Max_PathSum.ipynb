{
  "nbformat": 4,
  "nbformat_minor": 0,
  "metadata": {
    "colab": {
      "provenance": [],
      "authorship_tag": "ABX9TyPe5/19WC/cLZ3mJzoZ9hLJ",
      "include_colab_link": true
    },
    "kernelspec": {
      "name": "python3",
      "display_name": "Python 3"
    },
    "language_info": {
      "name": "python"
    }
  },
  "cells": [
    {
      "cell_type": "markdown",
      "metadata": {
        "id": "view-in-github",
        "colab_type": "text"
      },
      "source": [
        "<a href=\"https://colab.research.google.com/github/20pa1a0205/PROBLEM-SOLVING/blob/main/Max_PathSum.ipynb\" target=\"_parent\"><img src=\"https://colab.research.google.com/assets/colab-badge.svg\" alt=\"Open In Colab\"/></a>"
      ]
    },
    {
      "cell_type": "markdown",
      "source": [
        "Maximum PathSum --->"
      ],
      "metadata": {
        "id": "8YyeAcaxP4V1"
      }
    },
    {
      "cell_type": "code",
      "source": [
        "class Solution {\n",
        "    static int max = Integer.MIN_VALUE;\n",
        "    public int maxPathSum(TreeNode root) {\n",
        "        if(root == null)\n",
        "            return 0;\n",
        "        max = Integer.MIN_VALUE;\n",
        "        sol(root);\n",
        "        return max;\n",
        "    }\n",
        "    \n",
        "    public int sol(TreeNode root) {\n",
        "        if(root == null)\n",
        "            return 0;\n",
        "        int lH = Math.max(0, sol(root.left));\n",
        "        int rH = Math.max(0, sol(root.right));\n",
        "        max = Math.max(max, root.val+ lH+ rH);\n",
        "        return root.val+Math.max(lH, rH);\n",
        "    }\n",
        "}"
      ],
      "metadata": {
        "id": "tn1nNRnCP_O5"
      },
      "execution_count": null,
      "outputs": []
    }
  ]
}